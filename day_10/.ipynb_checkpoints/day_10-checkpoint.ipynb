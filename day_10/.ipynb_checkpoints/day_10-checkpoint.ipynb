{
 "cells": [
  {
   "cell_type": "code",
   "execution_count": 60,
   "metadata": {},
   "outputs": [],
   "source": [
    "inp = 'input'"
   ]
  },
  {
   "cell_type": "code",
   "execution_count": 61,
   "metadata": {},
   "outputs": [],
   "source": [
    "with open(f'{inp}.txt') as fi:\n",
    "    ops = [r.rstrip('\\n') for r in fi.readlines()]"
   ]
  },
  {
   "cell_type": "code",
   "execution_count": 62,
   "metadata": {},
   "outputs": [],
   "source": [
    "\n",
    "X = 1\n",
    "i = 0\n",
    "signal_strengths = [X,]\n",
    "for op in ops:\n",
    "    if op[:4] == 'noop':\n",
    "        i += 1\n",
    "        signal_strengths.append(X)\n",
    "    elif op[:4] == 'addx':\n",
    "        i += 2\n",
    "        signal_strengths.append(X)\n",
    "        signal_strengths.append(X)\n",
    "        X += int(op.split(' ')[1])\n",
    "    else:\n",
    "        print('op not recognized')"
   ]
  },
  {
   "cell_type": "code",
   "execution_count": 65,
   "metadata": {},
   "outputs": [
    {
     "data": {
      "text/plain": [
       "11220"
      ]
     },
     "execution_count": 65,
     "metadata": {},
     "output_type": "execute_result"
    }
   ],
   "source": [
    "sum([i * signal_strengths[i] for i in range(20, len(signal_strengths), 40)])"
   ]
  },
  {
   "cell_type": "code",
   "execution_count": 68,
   "metadata": {},
   "outputs": [
    {
     "name": "stdout",
     "output_type": "stream",
     "text": [
      "\n",
      "###..####.###...##....##.####.#....#..#.\n",
      "#..#....#.#..#.#..#....#.#....#....#.#..\n",
      "###....#..#..#.#..#....#.###..#....##...\n",
      "#..#..#...###..####....#.#....#....#.#..\n",
      "#..#.#....#....#..#.#..#.#....#....#.#..\n",
      "###..####.#....#..#..##..####.####.#..#.\n"
     ]
    }
   ],
   "source": [
    "row = ''\n",
    "row_number = -1\n",
    "for pixel in range(0, 240,):\n",
    "    if pixel % 40 == 0:\n",
    "        print(row)\n",
    "        row = ''\n",
    "        row_number += 1\n",
    "    sprite_position = signal_strengths[pixel+1] + (40 * row_number)\n",
    "    if abs(sprite_position - pixel) <= 1:\n",
    "        row += '#'\n",
    "    else:\n",
    "        row += '.'\n",
    "print(row)"
   ]
  },
  {
   "cell_type": "code",
   "execution_count": null,
   "metadata": {},
   "outputs": [],
   "source": []
  }
 ],
 "metadata": {
  "kernelspec": {
   "display_name": "Standard Env",
   "language": "python",
   "name": "ds_practice"
  },
  "language_info": {
   "codemirror_mode": {
    "name": "ipython",
    "version": 3
   },
   "file_extension": ".py",
   "mimetype": "text/x-python",
   "name": "python",
   "nbconvert_exporter": "python",
   "pygments_lexer": "ipython3",
   "version": "3.7.9"
  }
 },
 "nbformat": 4,
 "nbformat_minor": 2
}
